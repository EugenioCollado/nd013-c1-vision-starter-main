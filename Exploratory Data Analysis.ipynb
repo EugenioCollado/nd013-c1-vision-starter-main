{
 "cells": [
  {
   "cell_type": "markdown",
   "metadata": {},
   "source": [
    "# Explore the dataset\n",
    "\n",
    "\n",
    "In this notebook, we will perform an EDA (Exploratory Data Analysis) on the processed Waymo dataset (data in the `processed` folder). In the first part, you will create a function to display "
   ]
  },
  {
   "cell_type": "code",
   "execution_count": null,
   "metadata": {},
   "outputs": [],
   "source": [
    "from utils import get_dataset\n",
    "import glob\n",
    "import matplotlib.pyplot as plt\n",
    "import matplotlib.patches as patches\n",
    "import numpy as np\n",
    "import tensorflow as tf\n",
    "\n",
    "%matplotlib inline"
   ]
  },
  {
   "cell_type": "code",
   "execution_count": null,
   "metadata": {
    "scrolled": false
   },
   "outputs": [],
   "source": [
    "dataset = get_dataset(\"/app/project/data/all/*.tfrecord\")"
   ]
  },
  {
   "cell_type": "markdown",
   "metadata": {},
   "source": [
    "## Write a function to display an image and the bounding boxes\n",
    "\n",
    "Implement the `display_instances` function below. This function takes a batch as an input and display an image with its corresponding bounding boxes. The only requirement is that the classes should be color coded (eg, vehicles in red, pedestrians in blue, cyclist in green)."
   ]
  },
  {
   "cell_type": "code",
   "execution_count": null,
   "metadata": {},
   "outputs": [],
   "source": [
    "def display_instances(batch):\n",
    "    \"\"\"\n",
    "    This function takes a batch from the dataset and display the image with \n",
    "    the associated bounding boxes.\n",
    "    \"\"\"\n",
    "    # ADD CODE HERE\n",
    "    #f, ax = plt.subplots(2, 5, figsize=(20, 10))\n",
    "    for idx , data in enumerate(batch):\n",
    "        if(idx < 10):\n",
    "            #x = idx % 2\n",
    "            #y = idx % 5\n",
    "            f, ax = plt.subplots(figsize=(9, 9))\n",
    "            #print(data['groundtruth_boxes'].numpy())\n",
    "            #print(data['groundtruth_classes'].numpy())\n",
    "            ax.imshow(data['image'].numpy())\n",
    "            for i , bbox in enumerate(data['groundtruth_boxes'].numpy()):\n",
    "                if(data['groundtruth_classes'].numpy()[i] == 1):\n",
    "                    colour = 'r'\n",
    "                elif(data['groundtruth_classes'].numpy()[i] == 2):\n",
    "                    colour = 'b'\n",
    "                elif(data['groundtruth_classes'].numpy()[i] == 4):\n",
    "                    colour = 'g'\n",
    "                else:\n",
    "                    colour = 'k'\n",
    "                    \n",
    "                alto = bbox[2] - bbox[0]\n",
    "                ancho = bbox[3] - bbox[1]\n",
    "                rect = patches.Rectangle((bbox[1]*640, bbox[0]*640), ancho*640, alto*640, linewidth=1, edgecolor=colour, facecolor='none')\n",
    "                ax.add_patch(rect)\n",
    "            ax.axis('off')\n",
    "            plt.tight_layout()\n",
    "            plt.show()\n",
    "        else:\n",
    "            break\n",
    "    pass"
   ]
  },
  {
   "cell_type": "markdown",
   "metadata": {},
   "source": [
    "## Display 10 images \n",
    "\n",
    "Using the dataset created in the second cell and the function you just coded, display 10 random images with the associated bounding boxes. You can use the methods `take` and `shuffle` on the dataset."
   ]
  },
  {
   "cell_type": "code",
   "execution_count": null,
   "metadata": {
    "scrolled": false
   },
   "outputs": [],
   "source": [
    "## STUDENT SOLUTION HERE\n",
    "dataset.shuffle(10)\n",
    "display_instances(dataset)"
   ]
  },
  {
   "cell_type": "markdown",
   "metadata": {},
   "source": [
    "## Additional EDA\n",
    "\n",
    "In this last part, you are free to perform any additional analysis of the dataset. What else would like to know about the data?\n",
    "For example, think about data distribution. So far, you have only looked at a single file..."
   ]
  },
  {
   "cell_type": "code",
   "execution_count": null,
   "metadata": {
    "scrolled": false
   },
   "outputs": [],
   "source": [
    "#We check the different splits to see if the mimages have been splited correctly and to look for correlation btw the different datasets\n",
    "print(\"TRAIN: \")\n",
    "dataset = get_dataset(\"/app/project/data/train/*.tfrecord\")\n",
    "dataset.shuffle(10)\n",
    "display_instances(dataset)\n",
    "print(\"\\n\\n\\n\\n\\n\\n\")\n",
    "print(\"TEST: \")\n",
    "dataset = get_dataset(\"/app/project/data/test/*.tfrecord\")\n",
    "#dataset.shuffle(10)\n",
    "display_instances(dataset)\n",
    "print(\"\\n\\n\\n\\n\\n\\n\")\n",
    "print(\"VAL: \")\n",
    "dataset = get_dataset(\"/app/project/data/val/*.tfrecord\")\n",
    "#dataset.shuffle(10)\n",
    "display_instances(dataset)"
   ]
  },
  {
   "cell_type": "code",
   "execution_count": null,
   "metadata": {},
   "outputs": [],
   "source": []
  }
 ],
 "metadata": {
  "kernelspec": {
   "display_name": "Python 3",
   "language": "python",
   "name": "python3"
  },
  "language_info": {
   "codemirror_mode": {
    "name": "ipython",
    "version": 3
   },
   "file_extension": ".py",
   "mimetype": "text/x-python",
   "name": "python",
   "nbconvert_exporter": "python",
   "pygments_lexer": "ipython3",
   "version": "3.8.10 (default, Nov 14 2022, 12:59:47) \n[GCC 9.4.0]"
  },
  "vscode": {
   "interpreter": {
    "hash": "e7370f93d1d0cde622a1f8e1c04877d8463912d04d973331ad4851f04de6915a"
   }
  }
 },
 "nbformat": 4,
 "nbformat_minor": 4
}
